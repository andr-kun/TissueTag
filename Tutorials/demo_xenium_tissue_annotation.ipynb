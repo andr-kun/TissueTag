{
 "cells": [
  {
   "cell_type": "code",
   "id": "5310a10ad3b05eaf",
   "metadata": {},
   "source": [
    "%load_ext autoreload\n",
    "%autoreload 2"
   ],
   "outputs": [],
   "execution_count": null
  },
  {
   "cell_type": "markdown",
   "id": "a656df0f",
   "metadata": {
    "tags": []
   },
   "source": [
    "# This notebook illustrates how to annotate a Xenium morphology image of Mouse Brain\n",
    "\n",
    "Welcome!\n",
    "In this tutorial, we’ll walk through the process of annotating a **Xenium image** from a **FFPE mouse brain sample**. This notebook will guide you from raw data download to generating high-quality tissue annotations using both automated and manual approaches.\n",
    "\n",
    "## 📦 Download the Sample Data\n",
    "\n",
    "We'll use the publicly available dataset from 10x Genomics.\n",
    "Run the following commands in your terminal to download all necessary files and set up the demo directory\n",
    "\n",
    "<small>\n",
    "\n",
    "```bash\n",
    "mkdir ../data/tissue_tag_example_xenium\n",
    "cd ../data/tissue_tag_example_xenium\n",
    "curl -O https://cf.10xgenomics.com/samples/xenium/3.0.0/Xenium_Prime_Mouse_Brain_Coronal_FF/Xenium_Prime_Mouse_Brain_Coronal_FF_outs.zip\n",
    "unzip Xenium_Prime_Mouse_Brain_Coronal_FF_outs.zip\n",
    "tar -zvxf cell_feature_matrix.tar.gz\n",
    "```\n",
    "</small>\n",
    "\n",
    "\n",
    "## 🧭 Annotation Strategy\n",
    "\n",
    "We’ll explore several annotation strategies, ranging from automated predictions to manual refinement:\n",
    "\n",
    "1. **Fully Automatic** – Quickly capture broad tissue features (e.g., tissue boundaries, white and gray matter) using a simple pixel classifier.\n",
    "2. **Semi-Automatic** – Gene-guided labeling combined with manual annotation and drawing for finer control.\n",
    "\n",
    "All annotations will be saved as a `TissueTag` annotation class object in an `.h5` file.\n",
    "\n",
    "\n",
    "---\n",
    "\n",
    "Let's get started! 🚀"
   ]
  },
  {
   "cell_type": "code",
   "id": "recreational-notebook",
   "metadata": {
    "is_executing": true
   },
   "source": [
    "# initialisation \n",
    "import os\n",
    "import panel as pn\n",
    "import socket\n",
    "import numpy as np\n",
    "import tissue_tag as tt\n",
    "import tissue_tag.annotation\n",
    "\n",
    "os.environ[\"BOKEH_ALLOW_WS_ORIGIN\"] = \"*\"\n",
    "# host = '5011' # set the port to the value in the address bar when operating in farm\n",
    "host = '8888' # when working locally e.g. desktop"
   ],
   "outputs": [],
   "execution_count": null
  },
  {
   "cell_type": "code",
   "id": "11679fba4e26b45e",
   "metadata": {},
   "source": [
    "# set path\n",
    "# here you can either read a single image (grayscale or RGB) or generate a virtual H&E from 2 images in the next cell\n",
    "Path = '../' #directory of tissuetag repo\n",
    "path = Path +'data/tissue_tag_example_xenium/'"
   ],
   "outputs": [],
   "execution_count": null
  },
  {
   "cell_type": "markdown",
   "id": "b103bb297616006b",
   "metadata": {},
   "source": [
    "# Step 1 - Create de-novo annotations from gene expression (or not)"
   ]
  },
  {
   "cell_type": "markdown",
   "id": "126a4b9b662e80a9",
   "metadata": {},
   "source": [
    "Load a visium image and downscale it to a more manageable size. `res_in_ppm` is the desired pixels per micron in the output."
   ]
  },
  {
   "cell_type": "code",
   "id": "21471f91a0011e5e",
   "metadata": {},
   "source": [
    "tt_object = tt.read_xenium(path, ppm_out=1, image_quantiles=(5e-4, 0.9995), image_output=\"fluorescence\", plot=True)"
   ],
   "outputs": [],
   "execution_count": null
  },
  {
   "cell_type": "markdown",
   "id": "a5cef71c2427bcb4",
   "metadata": {},
   "source": [
    "# Automatic annotations - Create de-novo annotations from gene expression (or not)"
   ]
  },
  {
   "cell_type": "code",
   "id": "e53b09b8a6675286",
   "metadata": {},
   "source": [
    "import anndata\n",
    "import pandas as pd\n",
    "\n",
    "adata = anndata.io.read_mtx(path + \"cell_feature_matrix/matrix.mtx.gz\").T\n",
    "adata.var = pd.read_csv(path + \"cell_feature_matrix/features.tsv.gz\", sep=\"\\\\t\", header=None)\n",
    "adata.var.columns = [\"gene_ids\", \"gene_name\", \"feature_types\"]\n",
    "adata.var_names = adata.var[\"gene_name\"]\n",
    "\n",
    "adata.obs = pd.read_csv(path + \"cell_feature_matrix/barcodes.tsv.gz\", sep=\"\\\\t\", header=None)\n",
    "adata.obs.columns = [\"barcodes\"]\n",
    "adata.obs_names = adata.obs[\"barcodes\"]"
   ],
   "outputs": [],
   "execution_count": null
  },
  {
   "cell_type": "code",
   "id": "1d1ae7d5ac53978c",
   "metadata": {},
   "source": [
    "# Define anatomical structure annotations\n",
    "# and their associated color codes.\n",
    "#\n",
    "# Color families:\n",
    "#   • Red:         'red', 'darkred', 'firebrick', 'indianred'\n",
    "#   • Green:       'green', 'darkgreen', 'lime', 'seagreen', 'forestgreen'\n",
    "#   • Blue:        'blue', 'darkblue', 'royalblue', 'dodgerblue', 'deepskyblue'\n",
    "#   • Cyan:        'cyan', 'lightcyan', 'darkcyan', 'teal'\n",
    "#   • Magenta:     'magenta', 'purple', 'darkmagenta', 'orchid', 'violet'\n",
    "#   • Yellow/Orange:'gold', 'orange', 'darkorange', 'goldenrod'\n",
    "#   • Brown:       'brown', 'saddlebrown', 'chocolate', 'peru', 'tan'\n",
    "#   • Gray/Black:  'black', 'gray', 'darkgray', 'dimgray', 'lightgray'\n",
    "#   • White:       'white'\n",
    "\n",
    "tt_object.annotation_map = {\n",
    "    'unassigned':      'yellow',\n",
    "    'isocortex':       'green',\n",
    "    'hippocampus':     'darkgreen',\n",
    "    'olfactory':       'orange',\n",
    "    'striatum':        'red',\n",
    "    'thalamus':        'blue',\n",
    "    'amygdala':        'lime',\n",
    "    'choroid_plexus':  'gold',\n",
    "    'pia':             'deepskyblue',\n",
    "    'white_matter':    'white',\n",
    "    'gray_matter':     'teal',\n",
    "    'dentate_gyrus':   'violet',\n",
    "    'layer_1':         'tan',\n",
    "\n",
    "}\n",
    "# note if you need to add annotation to an exxisting object add them in the end and do not change the order as this corresponds to the pixel values of the label image. e.g. unassigned = 1, isocortex=2 etc"
   ],
   "outputs": [],
   "execution_count": null
  },
  {
   "cell_type": "code",
   "id": "4327709b7566fa82",
   "metadata": {},
   "source": [
    "# Define gene markers per region\n",
    "# Format: region_name: List of (gene, expression threshold)\n",
    "\n",
    "gene_markers = {\n",
    "    'gray_matter': [\n",
    "        ('Gad1', 2500),\n",
    "        ('Gad2', 2500),\n",
    "    ],\n",
    "    'white_matter': [\n",
    "        ('Gfap',500)\n",
    "    ]\n",
    "}\n",
    "\n",
    "# Generate training labels from gene expression\n",
    "# This maps regions based on marker expression\n",
    "\n",
    "tissue_tag.annotation.gene_labels_from_adata(\n",
    "    adata=adata,\n",
    "    gene_markers=gene_markers,\n",
    "    tissue_tag_annotation=tt_object,\n",
    "    diameter=20,  # Labeling diameter\n",
    "    override_labels=True,         # Replace any existing labels\n",
    "    normalize=True               # Use raw expression\n",
    ")"
   ],
   "outputs": [],
   "execution_count": null
  },
  {
   "cell_type": "code",
   "id": "e074bdba-0d2c-408a-a59f-235c72c92870",
   "metadata": {},
   "source": [
    "# Visualize the assigned labels\n",
    "tissue_tag.annotation.median_filter(tt_object,filter_radius=8)\n",
    "tissue_tag.annotation.plot_labels(tt_object, alpha=0.5) # i wasn't able to supress putput in annotation.plot_labels"
   ],
   "outputs": [],
   "execution_count": null
  },
  {
   "cell_type": "markdown",
   "id": "d449cf87-dda4-4bce-a706-9c2a09f98166",
   "metadata": {
    "tags": []
   },
   "source": [
    "# Part 2 - Iterative annotation section"
   ]
  },
  {
   "cell_type": "markdown",
   "id": "f6581dd6",
   "metadata": {},
   "source": [
    "At this stage, you can choose whether to use datashader - `use_datashader=True` for rendering the image (recommended for large images/high-resolution annotation). While the annotation process is slower with datashader, loading would be reasonable. If the image is too large, without datashader, the image might not load or take an extremely long time to load. \n",
    "\n",
    "Annotation is done by creating convex shapes in single strokes, the pixels inside the convex region would be filled in the `update_annotator` step. it's recommended to use a mouse with a wheel for easy scrolling in and out.\n",
    "*to remove a label the use can click on the label to remove and press the backspace key. "
   ]
  },
  {
   "cell_type": "code",
   "id": "3a8cc875-ae71-4960-9b8e-7036a2720b07",
   "metadata": {},
   "source": [
    "# use annotator to label tissue regions according to categories indicated above\n",
    "annotator = tissue_tag.annotation.annotator(tt_object, use_datashader=True)\n",
    "pn.io.notebook.show_server(annotator, notebook_url=f'localhost:'+host)\n",
    "#annotator.servable()"
   ],
   "outputs": [],
   "execution_count": null
  },
  {
   "cell_type": "code",
   "id": "d1242afce02734bb",
   "metadata": {},
   "source": [
    "# This step fills in the shapes created for the pixel classifier\n",
    "tissue_tag.annotation.plot_labels(tt_object, alpha=0.5)"
   ],
   "outputs": [],
   "execution_count": null
  },
  {
   "cell_type": "code",
   "id": "9ff9dfc7f5249994",
   "metadata": {},
   "source": [
    "%%time\n",
    "# Train and predict the image pixels with a random forest classifier. This step takes about 1 to 10 min depending on number of training areas and resolution  \n",
    "tissue_tag.annotation.pixel_label_classifier(tt_object)"
   ],
   "outputs": [],
   "execution_count": null
  },
  {
   "cell_type": "markdown",
   "id": "34e4887e-b756-4f50-8029-d1d764a4a52c",
   "metadata": {},
   "source": [
    "From this point go back to the annotator and correct annotations untill happy with results. "
   ]
  },
  {
   "cell_type": "markdown",
   "id": "342353bf-82a9-4c93-94b9-18c08dd412c7",
   "metadata": {},
   "source": [
    "# Part 3 - Gene-Guided Labeling\n",
    "\n",
    "In this step, we overlay **gene expression–based labels** on top of the previous classification.  \n",
    "These labels serve as additional guidance for **manual tissue annotation**, helping refine regional identity using known gene markers.\n",
    "\n",
    "We define a dictionary of **marker genes** and their expression thresholds for key brain regions.  \n",
    "From this, we generate spatial labels directly from the `AnnData` object and add them to the existing `TissueTag` annotation.\n",
    "\n",
    "> 🔍 These gene-based labels are not final annotations—they are **hints** to support accurate manual refinement."
   ]
  },
  {
   "cell_type": "code",
   "id": "3a5b9584-c3f2-4c9a-ae37-e310bf6fb746",
   "metadata": {},
   "source": [
    "# select gene markers \n",
    "gene_markers = {\n",
    "    'isocortex': [('Pak7',500),('Myl4',500),('Ttc9b',500)],\n",
    "    'amygdala':[('Acvr2a',300)],\n",
    "    'olfactory': [('Cdhr1',500)],\n",
    "    'striatum': [('Adora2a',200),('Gprin3',200)],\n",
    "    'thalamus': [('Plekhg1',500)],\n",
    "\t'choroid_plexus':[('Tcf21',500)],\n",
    "    'hippocampus': [('Zbtb20',500)],\n",
    "}\n",
    "\n",
    "# generate training data from gene expression\n",
    "tissue_tag.annotation.gene_labels_from_adata(\n",
    "    adata = adata,\n",
    "    gene_markers = gene_markers,    \n",
    "    tissue_tag_annotation=tt_object,\n",
    "    diameter = 20,\n",
    "    normalize=False\n",
    ") # generate gene-marker-labels\n",
    "tissue_tag.annotation.plot_labels(tt_object, alpha=0.25)"
   ],
   "outputs": [],
   "execution_count": null
  },
  {
   "cell_type": "code",
   "id": "a8b2400c-6ce4-4810-8798-9b1b15dd7243",
   "metadata": {},
   "source": [
    "# use annotator to label tissue regions according to categories indicated above\n",
    "annotator = tissue_tag.annotation.annotator(tt_object, use_datashader=True)\n",
    "pn.io.notebook.show_server(annotator, notebook_url=f'localhost:'+host)\n",
    "#annotator.servable()"
   ],
   "outputs": [],
   "execution_count": null
  },
  {
   "cell_type": "code",
   "id": "454dc21f-dc60-4d57-bbe7-ab04477fd8d8",
   "metadata": {},
   "source": [
    "tissue_tag.annotation.plot_labels(tt_object, alpha=0.5)"
   ],
   "outputs": [],
   "execution_count": null
  },
  {
   "cell_type": "code",
   "id": "5bbbfa8f-0147-497b-b667-e6dc8f5921a5",
   "metadata": {},
   "source": [
    "tissue_tag.annotation.assign_annotation_label_to_positions(tt_object)\n",
    "tt_object.positions"
   ],
   "outputs": [],
   "execution_count": null
  },
  {
   "cell_type": "code",
   "id": "7e27d299-07b4-489f-8446-1abecb34c87f",
   "metadata": {},
   "source": [
    "tissue_tag.annotation.plot_cell_label_annotations(tt_object, alpha=0.5)"
   ],
   "outputs": [],
   "execution_count": null
  },
  {
   "cell_type": "markdown",
   "id": "1e0a55ac",
   "metadata": {},
   "source": [
    "#  Save annotations (and load)"
   ]
  },
  {
   "cell_type": "markdown",
   "id": "fossil-sigma",
   "metadata": {},
   "source": [
    "The resulting images and information can be saved for later use."
   ]
  },
  {
   "cell_type": "code",
   "id": "gross-powell",
   "metadata": {},
   "source": [
    "isExist = os.path.exists(path+'tissue_annotations')\n",
    "if not(isExist):\n",
    "    os.mkdir(path+'/tissue_annotations/')\n",
    "    \n",
    "tt_object.save_annotation(file_path=path+'/tissue_annotations/annotations.h5')"
   ],
   "outputs": [],
   "execution_count": null
  },
  {
   "cell_type": "code",
   "id": "2085d02d",
   "metadata": {},
   "source": [
    "# optional - load annotations and as an intermediate step \n",
    "tt_object = tt.load_annotation(file_path=path + '/tissue_annotations/annotations.h5')"
   ],
   "outputs": [],
   "execution_count": null
  },
  {
   "cell_type": "code",
   "id": "8ce423a1-6c93-4282-898e-97d9d8f16964",
   "metadata": {},
   "source": [
    "# use annotator to label tissue regions according to categories indicated above\n",
    "annotator = tissue_tag.annotation.annotator(tt_object, use_datashader=True)\n",
    "pn.io.notebook.show_server(annotator, notebook_url=f'localhost:'+host)\n",
    "#annotator.servable()"
   ],
   "outputs": [],
   "execution_count": null
  },
  {
   "cell_type": "code",
   "id": "66beef89-79f2-4be9-8b24-dad0c39a13ed",
   "metadata": {},
   "source": [],
   "outputs": [],
   "execution_count": null
  }
 ],
 "metadata": {
  "kernelspec": {
   "display_name": "Python 3 (ipykernel)",
   "language": "python",
   "name": "python3"
  },
  "language_info": {
   "codemirror_mode": {
    "name": "ipython",
    "version": 3
   },
   "file_extension": ".py",
   "mimetype": "text/x-python",
   "name": "python",
   "nbconvert_exporter": "python",
   "pygments_lexer": "ipython3",
   "version": "3.12.8"
  }
 },
 "nbformat": 4,
 "nbformat_minor": 5
}
